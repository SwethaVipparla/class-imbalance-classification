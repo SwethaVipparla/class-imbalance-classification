{
 "cells": [
  {
   "cell_type": "code",
   "execution_count": 4,
   "metadata": {},
   "outputs": [],
   "source": [
    "import pandas as pd\n",
    "\n",
    "og_data = pd.read_csv('creditcard.csv')"
   ]
  },
  {
   "cell_type": "code",
   "execution_count": 80,
   "metadata": {},
   "outputs": [
    {
     "data": {
      "text/html": [
       "<div>\n",
       "<style scoped>\n",
       "    .dataframe tbody tr th:only-of-type {\n",
       "        vertical-align: middle;\n",
       "    }\n",
       "\n",
       "    .dataframe tbody tr th {\n",
       "        vertical-align: top;\n",
       "    }\n",
       "\n",
       "    .dataframe thead th {\n",
       "        text-align: right;\n",
       "    }\n",
       "</style>\n",
       "<table border=\"1\" class=\"dataframe\">\n",
       "  <thead>\n",
       "    <tr style=\"text-align: right;\">\n",
       "      <th></th>\n",
       "      <th>Time</th>\n",
       "      <th>V1</th>\n",
       "      <th>V2</th>\n",
       "      <th>V3</th>\n",
       "      <th>V4</th>\n",
       "      <th>V5</th>\n",
       "      <th>V6</th>\n",
       "      <th>V7</th>\n",
       "      <th>V8</th>\n",
       "      <th>V9</th>\n",
       "      <th>...</th>\n",
       "      <th>V21</th>\n",
       "      <th>V22</th>\n",
       "      <th>V23</th>\n",
       "      <th>V24</th>\n",
       "      <th>V25</th>\n",
       "      <th>V26</th>\n",
       "      <th>V27</th>\n",
       "      <th>V28</th>\n",
       "      <th>Amount</th>\n",
       "      <th>Class</th>\n",
       "    </tr>\n",
       "  </thead>\n",
       "  <tbody>\n",
       "    <tr>\n",
       "      <th>175349</th>\n",
       "      <td>122292.0</td>\n",
       "      <td>0.085955</td>\n",
       "      <td>0.291334</td>\n",
       "      <td>0.611489</td>\n",
       "      <td>3.110745</td>\n",
       "      <td>-0.888215</td>\n",
       "      <td>-0.114363</td>\n",
       "      <td>1.159178</td>\n",
       "      <td>-0.242826</td>\n",
       "      <td>-1.475982</td>\n",
       "      <td>...</td>\n",
       "      <td>0.370580</td>\n",
       "      <td>0.960365</td>\n",
       "      <td>0.749778</td>\n",
       "      <td>1.005657</td>\n",
       "      <td>-1.816431</td>\n",
       "      <td>2.518153</td>\n",
       "      <td>0.087279</td>\n",
       "      <td>0.280761</td>\n",
       "      <td>227.10</td>\n",
       "      <td>0</td>\n",
       "    </tr>\n",
       "    <tr>\n",
       "      <th>69479</th>\n",
       "      <td>53445.0</td>\n",
       "      <td>1.121548</td>\n",
       "      <td>0.173211</td>\n",
       "      <td>0.433388</td>\n",
       "      <td>1.283572</td>\n",
       "      <td>-0.417190</td>\n",
       "      <td>-0.813467</td>\n",
       "      <td>0.165938</td>\n",
       "      <td>-0.201198</td>\n",
       "      <td>-0.009016</td>\n",
       "      <td>...</td>\n",
       "      <td>0.069251</td>\n",
       "      <td>0.123165</td>\n",
       "      <td>-0.125768</td>\n",
       "      <td>0.395612</td>\n",
       "      <td>0.595911</td>\n",
       "      <td>-0.335569</td>\n",
       "      <td>0.012632</td>\n",
       "      <td>0.034459</td>\n",
       "      <td>60.00</td>\n",
       "      <td>0</td>\n",
       "    </tr>\n",
       "    <tr>\n",
       "      <th>189592</th>\n",
       "      <td>128474.0</td>\n",
       "      <td>1.913465</td>\n",
       "      <td>-0.892030</td>\n",
       "      <td>-1.007111</td>\n",
       "      <td>-1.162106</td>\n",
       "      <td>0.263097</td>\n",
       "      <td>1.513907</td>\n",
       "      <td>-0.970719</td>\n",
       "      <td>0.581487</td>\n",
       "      <td>1.741077</td>\n",
       "      <td>...</td>\n",
       "      <td>-0.133515</td>\n",
       "      <td>-0.197846</td>\n",
       "      <td>0.417592</td>\n",
       "      <td>-2.375790</td>\n",
       "      <td>-0.868163</td>\n",
       "      <td>0.528433</td>\n",
       "      <td>0.020689</td>\n",
       "      <td>-0.072297</td>\n",
       "      <td>15.80</td>\n",
       "      <td>0</td>\n",
       "    </tr>\n",
       "    <tr>\n",
       "      <th>118792</th>\n",
       "      <td>75215.0</td>\n",
       "      <td>1.214802</td>\n",
       "      <td>0.275480</td>\n",
       "      <td>0.317775</td>\n",
       "      <td>0.580349</td>\n",
       "      <td>-0.349566</td>\n",
       "      <td>-0.757236</td>\n",
       "      <td>-0.046123</td>\n",
       "      <td>-0.032227</td>\n",
       "      <td>-0.162625</td>\n",
       "      <td>...</td>\n",
       "      <td>-0.241446</td>\n",
       "      <td>-0.752301</td>\n",
       "      <td>0.122374</td>\n",
       "      <td>0.277532</td>\n",
       "      <td>0.172272</td>\n",
       "      <td>0.078628</td>\n",
       "      <td>-0.029520</td>\n",
       "      <td>0.019567</td>\n",
       "      <td>0.99</td>\n",
       "      <td>0</td>\n",
       "    </tr>\n",
       "    <tr>\n",
       "      <th>175666</th>\n",
       "      <td>122436.0</td>\n",
       "      <td>-0.603695</td>\n",
       "      <td>1.418623</td>\n",
       "      <td>0.638692</td>\n",
       "      <td>-0.121171</td>\n",
       "      <td>0.659367</td>\n",
       "      <td>-1.033076</td>\n",
       "      <td>1.258422</td>\n",
       "      <td>-0.336916</td>\n",
       "      <td>-0.641675</td>\n",
       "      <td>...</td>\n",
       "      <td>0.223059</td>\n",
       "      <td>0.699696</td>\n",
       "      <td>-0.649032</td>\n",
       "      <td>0.007686</td>\n",
       "      <td>0.932361</td>\n",
       "      <td>0.145444</td>\n",
       "      <td>-0.078655</td>\n",
       "      <td>0.073340</td>\n",
       "      <td>16.52</td>\n",
       "      <td>0</td>\n",
       "    </tr>\n",
       "  </tbody>\n",
       "</table>\n",
       "<p>5 rows × 31 columns</p>\n",
       "</div>"
      ],
      "text/plain": [
       "            Time        V1        V2        V3        V4        V5        V6  \\\n",
       "175349  122292.0  0.085955  0.291334  0.611489  3.110745 -0.888215 -0.114363   \n",
       "69479    53445.0  1.121548  0.173211  0.433388  1.283572 -0.417190 -0.813467   \n",
       "189592  128474.0  1.913465 -0.892030 -1.007111 -1.162106  0.263097  1.513907   \n",
       "118792   75215.0  1.214802  0.275480  0.317775  0.580349 -0.349566 -0.757236   \n",
       "175666  122436.0 -0.603695  1.418623  0.638692 -0.121171  0.659367 -1.033076   \n",
       "\n",
       "              V7        V8        V9  ...       V21       V22       V23  \\\n",
       "175349  1.159178 -0.242826 -1.475982  ...  0.370580  0.960365  0.749778   \n",
       "69479   0.165938 -0.201198 -0.009016  ...  0.069251  0.123165 -0.125768   \n",
       "189592 -0.970719  0.581487  1.741077  ... -0.133515 -0.197846  0.417592   \n",
       "118792 -0.046123 -0.032227 -0.162625  ... -0.241446 -0.752301  0.122374   \n",
       "175666  1.258422 -0.336916 -0.641675  ...  0.223059  0.699696 -0.649032   \n",
       "\n",
       "             V24       V25       V26       V27       V28  Amount  Class  \n",
       "175349  1.005657 -1.816431  2.518153  0.087279  0.280761  227.10      0  \n",
       "69479   0.395612  0.595911 -0.335569  0.012632  0.034459   60.00      0  \n",
       "189592 -2.375790 -0.868163  0.528433  0.020689 -0.072297   15.80      0  \n",
       "118792  0.277532  0.172272  0.078628 -0.029520  0.019567    0.99      0  \n",
       "175666  0.007686  0.932361  0.145444 -0.078655  0.073340   16.52      0  \n",
       "\n",
       "[5 rows x 31 columns]"
      ]
     },
     "execution_count": 80,
     "metadata": {},
     "output_type": "execute_result"
    }
   ],
   "source": [
    "import random\n",
    "data = og_data.copy().sample(n=10000, random_state=random.randint(0, 1000))\n",
    "\n",
    "data.head()"
   ]
  },
  {
   "cell_type": "code",
   "execution_count": 81,
   "metadata": {},
   "outputs": [],
   "source": [
    "from sklearn.model_selection import train_test_split\n",
    "from sklearn.metrics import accuracy_score\n",
    "\n",
    "# split data into train and test sets\n",
    "train, test = train_test_split(data, test_size=0.2, random_state=42)\n",
    "\n",
    "# separate the target from the training data\n",
    "train_X = train.drop('Class', axis=1)\n",
    "train_y = train['Class']\n",
    "\n",
    "# separate the target from the testing data\n",
    "test_X = test.drop('Class', axis=1)\n",
    "test_y = test['Class']"
   ]
  },
  {
   "cell_type": "code",
   "execution_count": 66,
   "metadata": {},
   "outputs": [],
   "source": [
    "from sklearn.metrics import confusion_matrix\n",
    "import matplotlib.pyplot as plt\n",
    "import seaborn as sns\n",
    "\n",
    "def confusion_matrix_plot(pred, test):\n",
    "    # plot confusion matrix\n",
    "    cm = confusion_matrix(test, pred)\n",
    "\n",
    "    ax = plt.subplot()\n",
    "    sns.heatmap(cm, annot=True, ax=ax, fmt='g')\n",
    "\n",
    "    ax.set_xlabel('Predicted labels')\n",
    "    ax.set_ylabel('True labels')\n",
    "    ax.set_title('Confusion Matrix')\n",
    "    ax.xaxis.set_ticklabels(['Normal', 'Fraud'])"
   ]
  },
  {
   "cell_type": "code",
   "execution_count": 72,
   "metadata": {},
   "outputs": [],
   "source": [
    "# knn classifier\n",
    "from sklearn.neighbors import KNeighborsClassifier\n",
    "\n",
    "# create the model\n",
    "knn = KNeighborsClassifier(n_neighbors=5)\n",
    "\n",
    "# fit the model\n",
    "knn.fit(train_X, train_y)\n",
    "\n",
    "# make predictions\n",
    "pred = knn.predict(test_X)\n",
    "\n",
    "# evaluate accuracy\n",
    "acc = accuracy_score(test_y, pred)"
   ]
  },
  {
   "cell_type": "code",
   "execution_count": 23,
   "metadata": {},
   "outputs": [
    {
     "data": {
      "text/plain": [
       "[Text(0, 0.5, 'Normal'), Text(0, 1.5, 'Fraud')]"
      ]
     },
     "execution_count": 23,
     "metadata": {},
     "output_type": "execute_result"
    },
    {
     "data": {
      "image/png": "[encoded data removed]",
      "text/plain": [
       "<Figure size 432x288 with 2 Axes>"
      ]
     },
     "metadata": {
      "needs_background": "light"
     },
     "output_type": "display_data"
    }
   ],
   "source": [
    "# plot confusion matrix\n",
    "\n",
    "import matplotlib.pyplot as plt\n",
    "import seaborn as sns\n",
    "\n",
    "cm = confusion_matrix(test_y, pred)\n",
    "\n",
    "ax = plt.subplot()\n",
    "sns.heatmap(cm, annot=True, ax=ax, fmt='g')\n",
    "\n",
    "ax.set_xlabel('Predicted labels')\n",
    "ax.set_ylabel('True labels')\n",
    "ax.set_title('Confusion Matrix')\n",
    "ax.xaxis.set_ticklabels(['Normal', 'Fraud'])\n",
    "ax.yaxis.set_ticklabels(['Normal', 'Fraud'])"
   ]
  },
  {
   "cell_type": "code",
   "execution_count": 74,
   "metadata": {},
   "outputs": [
    {
     "data": {
      "text/plain": [
       "[Text(0.5, 0, 'Normal'), Text(1.5, 0, 'Fraud')]"
      ]
     },
     "execution_count": 74,
     "metadata": {},
     "output_type": "execute_result"
    },
    {
     "data": {
      "image/png": "[encoded data removed]",
      "text/plain": [
       "<Figure size 432x288 with 2 Axes>"
      ]
     },
     "metadata": {
      "needs_background": "light"
     },
     "output_type": "display_data"
    }
   ],
   "source": [
    "# decision tree classifier\n",
    "from sklearn.tree import DecisionTreeClassifier\n",
    "\n",
    "# create the model\n",
    "dt = DecisionTreeClassifier()\n",
    "\n",
    "# fit the model\n",
    "dt.fit(train_X, train_y)\n",
    "\n",
    "# make predictions\n",
    "pred = dt.predict(test_X)\n",
    "\n",
    "# evaluate accuracy\n",
    "acc = accuracy_score(test_y, pred)\n",
    "\n",
    "# confusion matrix\n",
    "confusion_matrix(test_y, pred)\n",
    "\n",
    "# plot confusion matrix\n",
    "cm = confusion_matrix(test_y, pred)\n",
    "\n",
    "ax = plt.subplot()\n",
    "sns.heatmap(cm, annot=True, ax=ax, fmt='g')\n",
    "\n",
    "ax.set_xlabel('Predicted labels')\n",
    "ax.set_ylabel('True labels')\n",
    "ax.set_title('Confusion Matrix')\n",
    "ax.xaxis.set_ticklabels(['Normal', 'Fraud'])"
   ]
  },
  {
   "cell_type": "code",
   "execution_count": 77,
   "metadata": {},
   "outputs": [
    {
     "data": {
      "image/png": "[encoded data removed]",
      "text/plain": [
       "<Figure size 432x288 with 2 Axes>"
      ]
     },
     "metadata": {
      "needs_background": "light"
     },
     "output_type": "display_data"
    }
   ],
   "source": [
    "# get all frauds from the og_data\n",
    "frauds = og_data[og_data['Class'] == 1]\n",
    "fraud_X = frauds.drop('Class', axis=1)\n",
    "\n",
    "# run the model on the frauds\n",
    "fraud_pred = dt.predict(fraud_X)\n",
    "# get the accuracy of the model on the frauds\n",
    "fraud_acc = accuracy_score(frauds['Class'], fraud_pred)\n",
    "\n",
    "# confusion matrix\n",
    "confusion_matrix_plot(fraud_pred, frauds['Class'])"
   ]
  },
  {
   "cell_type": "code",
   "execution_count": 76,
   "metadata": {},
   "outputs": [
    {
     "data": {
      "text/plain": [
       "0.823170731707317"
      ]
     },
     "execution_count": 76,
     "metadata": {},
     "output_type": "execute_result"
    }
   ],
   "source": [
    "accuracy_score(frauds['Class'], fraud_pred)"
   ]
  },
  {
   "cell_type": "code",
   "execution_count": null,
   "metadata": {},
   "outputs": [],
   "source": [
    "from sklearn.ensemble import RandomForestClassifier\n",
    "\n",
    "accs = []\n",
    "for i in range(1, 16):\n",
    "    data = og_data.copy().sample(n=i * 10000, random_state=random.randint(0, 1000))\n",
    "    train_X = data.drop('Class', axis=1)\n",
    "    train_y = data['Class']\n",
    "\n",
    "    dt = RandomForestClassifier()\n",
    "\n",
    "    # fit the model\n",
    "    dt.fit(train_X, train_y)\n",
    "\n",
    "    # make predictions\n",
    "    pred = dt.predict(fraud_X)\n",
    "\n",
    "    # evaluate accuracy\n",
    "    accs.append(accuracy_score(frauds['Class'], pred))"
   ]
  },
  {
   "cell_type": "code",
   "execution_count": 85,
   "metadata": {},
   "outputs": [
    {
     "data": {
      "image/png": "[encoded data removed]",
      "text/plain": [
       "<Figure size 432x288 with 1 Axes>"
      ]
     },
     "metadata": {
      "needs_background": "light"
     },
     "output_type": "display_data"
    }
   ],
   "source": [
    "\n",
    "plt.plot(range(1, 16), accs)\n",
    "plt.xlabel('Number of samples')\n",
    "plt.ylabel('Accuracy')\n",
    "plt.title('Accuracy vs Number of Samples')\n",
    "plt.show()"
   ]
  },
  {
   "cell_type": "code",
   "execution_count": 82,
   "metadata": {},
   "outputs": [],
   "source": [
    "# random forest classifier\n",
    "\n",
    "# create the model\n",
    "rf = RandomForestClassifier()\n",
    "\n",
    "# fit the model\n",
    "rf.fit(train_X, train_y)\n",
    "\n",
    "# make predictions\n",
    "pred = rf.predict(test_X)\n",
    "\n",
    "# evaluate accuracy\n",
    "acc = accuracy_score(test_y, pred)"
   ]
  },
  {
   "cell_type": "code",
   "execution_count": 83,
   "metadata": {},
   "outputs": [
    {
     "data": {
      "image/png": "[encoded data removed]",
      "text/plain": [
       "<Figure size 432x288 with 2 Axes>"
      ]
     },
     "metadata": {
      "needs_background": "light"
     },
     "output_type": "display_data"
    }
   ],
   "source": [
    "confusion_matrix_plot(pred, test_y)"
   ]
  },
  {
   "cell_type": "code",
   "execution_count": 86,
   "metadata": {},
   "outputs": [],
   "source": [
    "data = pd.read_csv('citrus.csv')\n",
    "train_X, test_X, train_y, test_y = train_test_split(data.drop('name', axis=1), data['name'], test_size=0.2, random_state=42)"
   ]
  },
  {
   "cell_type": "code",
   "execution_count": 87,
   "metadata": {},
   "outputs": [
    {
     "data": {
      "text/plain": [
       "(8000, 5)"
      ]
     },
     "execution_count": 87,
     "metadata": {},
     "output_type": "execute_result"
    }
   ],
   "source": [
    "train_X.shape"
   ]
  },
  {
   "cell_type": "code",
   "execution_count": 91,
   "metadata": {},
   "outputs": [
    {
     "name": "stdout",
     "output_type": "stream",
     "text": [
      "KNeighborsClassifier 0.919\n",
      "[[911  77]\n",
      " [ 85 927]]\n",
      "DecisionTreeClassifier 0.942\n",
      "[[933  55]\n",
      " [ 61 951]]\n",
      "RandomForestClassifier 0.952\n",
      "[[949  39]\n",
      " [ 57 955]]\n"
     ]
    }
   ],
   "source": [
    "for clt in [KNeighborsClassifier(n_neighbors=5), DecisionTreeClassifier(), RandomForestClassifier()]:\n",
    "    clt.fit(train_X, train_y)\n",
    "    pred = clt.predict(test_X)\n",
    "    print(clt.__class__.__name__, accuracy_score(test_y, pred))\n",
    "    print(confusion_matrix(test_y, pred))"
   ]
  },
  {
   "cell_type": "code",
   "execution_count": 95,
   "metadata": {},
   "outputs": [
    {
     "ename": "ImportError",
     "evalue": "cannot import name '_ClassNamePrefixFeaturesOutMixin' from 'sklearn.base' (/home/shu7bh/.local/lib/python3.10/site-packages/sklearn/base.py)",
     "output_type": "error",
     "traceback": [
      "\u001b[0;31m---------------------------------------------------------------------------\u001b[0m",
      "\u001b[0;31mImportError\u001b[0m                               Traceback (most recent call last)",
      "\u001b[1;32m/home/shu7bh/Programming/IIITH/SMAI/Project/project.ipynb Cell 17\u001b[0m in \u001b[0;36m<module>\u001b[0;34m\u001b[0m\n\u001b[0;32m----> <a href='vscode-notebook-cell:/home/shu7bh/Programming/IIITH/SMAI/Project/project.ipynb#X25sZmlsZQ%3D%3D?line=0'>1</a>\u001b[0m \u001b[39mfrom\u001b[39;00m \u001b[39mimblearn\u001b[39;00m\u001b[39m.\u001b[39;00m\u001b[39munder_sampling\u001b[39;00m \u001b[39mimport\u001b[39;00m NearMiss\n\u001b[1;32m      <a href='vscode-notebook-cell:/home/shu7bh/Programming/IIITH/SMAI/Project/project.ipynb#X25sZmlsZQ%3D%3D?line=2'>3</a>\u001b[0m nm \u001b[39m=\u001b[39m NearMiss(sampling_strategy\u001b[39m=\u001b[39m\u001b[39m'\u001b[39m\u001b[39mauto\u001b[39m\u001b[39m'\u001b[39m )\n\u001b[1;32m      <a href='vscode-notebook-cell:/home/shu7bh/Programming/IIITH/SMAI/Project/project.ipynb#X25sZmlsZQ%3D%3D?line=3'>4</a>\u001b[0m X_res,y_res \u001b[39m=\u001b[39m nm\u001b[39m.\u001b[39mfit_resample(og_data\u001b[39m.\u001b[39mdrop(\u001b[39m'\u001b[39m\u001b[39mClass\u001b[39m\u001b[39m'\u001b[39m, axis\u001b[39m=\u001b[39m\u001b[39m1\u001b[39m), og_data[\u001b[39m'\u001b[39m\u001b[39mClass\u001b[39m\u001b[39m'\u001b[39m])\n",
      "File \u001b[0;32m~/.local/lib/python3.10/site-packages/imblearn/__init__.py:52\u001b[0m, in \u001b[0;36m<module>\u001b[0;34m\u001b[0m\n\u001b[1;32m     48\u001b[0m     sys\u001b[39m.\u001b[39mstderr\u001b[39m.\u001b[39mwrite(\u001b[39m\"\u001b[39m\u001b[39mPartial import of imblearn during the build process.\u001b[39m\u001b[39m\\n\u001b[39;00m\u001b[39m\"\u001b[39m)\n\u001b[1;32m     49\u001b[0m     \u001b[39m# We are not importing the rest of scikit-learn during the build\u001b[39;00m\n\u001b[1;32m     50\u001b[0m     \u001b[39m# process, as it may not be compiled yet\u001b[39;00m\n\u001b[1;32m     51\u001b[0m \u001b[39melse\u001b[39;00m:\n\u001b[0;32m---> 52\u001b[0m     \u001b[39mfrom\u001b[39;00m \u001b[39m.\u001b[39;00m \u001b[39mimport\u001b[39;00m combine\n\u001b[1;32m     53\u001b[0m     \u001b[39mfrom\u001b[39;00m \u001b[39m.\u001b[39;00m \u001b[39mimport\u001b[39;00m ensemble\n\u001b[1;32m     54\u001b[0m     \u001b[39mfrom\u001b[39;00m \u001b[39m.\u001b[39;00m \u001b[39mimport\u001b[39;00m exceptions\n",
      "File \u001b[0;32m~/.local/lib/python3.10/site-packages/imblearn/combine/__init__.py:5\u001b[0m, in \u001b[0;36m<module>\u001b[0;34m\u001b[0m\n\u001b[1;32m      1\u001b[0m \u001b[39m\"\"\"The :mod:`imblearn.combine` provides methods which combine\u001b[39;00m\n\u001b[1;32m      2\u001b[0m \u001b[39mover-sampling and under-sampling.\u001b[39;00m\n\u001b[1;32m      3\u001b[0m \u001b[39m\"\"\"\u001b[39;00m\n\u001b[0;32m----> 5\u001b[0m \u001b[39mfrom\u001b[39;00m \u001b[39m.\u001b[39;00m\u001b[39m_smote_enn\u001b[39;00m \u001b[39mimport\u001b[39;00m SMOTEENN\n\u001b[1;32m      6\u001b[0m \u001b[39mfrom\u001b[39;00m \u001b[39m.\u001b[39;00m\u001b[39m_smote_tomek\u001b[39;00m \u001b[39mimport\u001b[39;00m SMOTETomek\n\u001b[1;32m      8\u001b[0m __all__ \u001b[39m=\u001b[39m [\u001b[39m\"\u001b[39m\u001b[39mSMOTEENN\u001b[39m\u001b[39m\"\u001b[39m, \u001b[39m\"\u001b[39m\u001b[39mSMOTETomek\u001b[39m\u001b[39m\"\u001b[39m]\n",
      "File \u001b[0;32m~/.local/lib/python3.10/site-packages/imblearn/combine/_smote_enn.py:11\u001b[0m, in \u001b[0;36m<module>\u001b[0;34m\u001b[0m\n\u001b[1;32m      8\u001b[0m \u001b[39mfrom\u001b[39;00m \u001b[39msklearn\u001b[39;00m\u001b[39m.\u001b[39;00m\u001b[39mutils\u001b[39;00m \u001b[39mimport\u001b[39;00m check_X_y\n\u001b[1;32m     10\u001b[0m \u001b[39mfrom\u001b[39;00m \u001b[39m.\u001b[39;00m\u001b[39m.\u001b[39;00m\u001b[39mbase\u001b[39;00m \u001b[39mimport\u001b[39;00m BaseSampler\n\u001b[0;32m---> 11\u001b[0m \u001b[39mfrom\u001b[39;00m \u001b[39m.\u001b[39;00m\u001b[39m.\u001b[39;00m\u001b[39mover_sampling\u001b[39;00m \u001b[39mimport\u001b[39;00m SMOTE\n\u001b[1;32m     12\u001b[0m \u001b[39mfrom\u001b[39;00m \u001b[39m.\u001b[39;00m\u001b[39m.\u001b[39;00m\u001b[39mover_sampling\u001b[39;00m\u001b[39m.\u001b[39;00m\u001b[39mbase\u001b[39;00m \u001b[39mimport\u001b[39;00m BaseOverSampler\n\u001b[1;32m     13\u001b[0m \u001b[39mfrom\u001b[39;00m \u001b[39m.\u001b[39;00m\u001b[39m.\u001b[39;00m\u001b[39munder_sampling\u001b[39;00m \u001b[39mimport\u001b[39;00m EditedNearestNeighbours\n",
      "File \u001b[0;32m~/.local/lib/python3.10/site-packages/imblearn/over_sampling/__init__.py:8\u001b[0m, in \u001b[0;36m<module>\u001b[0;34m\u001b[0m\n\u001b[1;32m      6\u001b[0m \u001b[39mfrom\u001b[39;00m \u001b[39m.\u001b[39;00m\u001b[39m_adasyn\u001b[39;00m \u001b[39mimport\u001b[39;00m ADASYN\n\u001b[1;32m      7\u001b[0m \u001b[39mfrom\u001b[39;00m \u001b[39m.\u001b[39;00m\u001b[39m_random_over_sampler\u001b[39;00m \u001b[39mimport\u001b[39;00m RandomOverSampler\n\u001b[0;32m----> 8\u001b[0m \u001b[39mfrom\u001b[39;00m \u001b[39m.\u001b[39;00m\u001b[39m_smote\u001b[39;00m \u001b[39mimport\u001b[39;00m SMOTE\n\u001b[1;32m      9\u001b[0m \u001b[39mfrom\u001b[39;00m \u001b[39m.\u001b[39;00m\u001b[39m_smote\u001b[39;00m \u001b[39mimport\u001b[39;00m BorderlineSMOTE\n\u001b[1;32m     10\u001b[0m \u001b[39mfrom\u001b[39;00m \u001b[39m.\u001b[39;00m\u001b[39m_smote\u001b[39;00m \u001b[39mimport\u001b[39;00m KMeansSMOTE\n",
      "File \u001b[0;32m~/.local/lib/python3.10/site-packages/imblearn/over_sampling/_smote/__init__.py:5\u001b[0m, in \u001b[0;36m<module>\u001b[0;34m\u001b[0m\n\u001b[1;32m      2\u001b[0m \u001b[39mfrom\u001b[39;00m \u001b[39m.\u001b[39;00m\u001b[39mbase\u001b[39;00m \u001b[39mimport\u001b[39;00m SMOTEN\n\u001b[1;32m      3\u001b[0m \u001b[39mfrom\u001b[39;00m \u001b[39m.\u001b[39;00m\u001b[39mbase\u001b[39;00m \u001b[39mimport\u001b[39;00m SMOTENC\n\u001b[0;32m----> 5\u001b[0m \u001b[39mfrom\u001b[39;00m \u001b[39m.\u001b[39;00m\u001b[39mcluster\u001b[39;00m \u001b[39mimport\u001b[39;00m KMeansSMOTE\n\u001b[1;32m      7\u001b[0m \u001b[39mfrom\u001b[39;00m \u001b[39m.\u001b[39;00m\u001b[39mfilter\u001b[39;00m \u001b[39mimport\u001b[39;00m BorderlineSMOTE\n\u001b[1;32m      8\u001b[0m \u001b[39mfrom\u001b[39;00m \u001b[39m.\u001b[39;00m\u001b[39mfilter\u001b[39;00m \u001b[39mimport\u001b[39;00m SVMSMOTE\n",
      "File \u001b[0;32m~/.local/lib/python3.10/site-packages/imblearn/over_sampling/_smote/cluster.py:14\u001b[0m, in \u001b[0;36m<module>\u001b[0;34m\u001b[0m\n\u001b[1;32m     11\u001b[0m \u001b[39mfrom\u001b[39;00m \u001b[39mscipy\u001b[39;00m \u001b[39mimport\u001b[39;00m sparse\n\u001b[1;32m     13\u001b[0m \u001b[39mfrom\u001b[39;00m \u001b[39msklearn\u001b[39;00m\u001b[39m.\u001b[39;00m\u001b[39mbase\u001b[39;00m \u001b[39mimport\u001b[39;00m clone\n\u001b[0;32m---> 14\u001b[0m \u001b[39mfrom\u001b[39;00m \u001b[39msklearn\u001b[39;00m\u001b[39m.\u001b[39;00m\u001b[39mcluster\u001b[39;00m \u001b[39mimport\u001b[39;00m MiniBatchKMeans\n\u001b[1;32m     15\u001b[0m \u001b[39mfrom\u001b[39;00m \u001b[39msklearn\u001b[39;00m\u001b[39m.\u001b[39;00m\u001b[39mmetrics\u001b[39;00m \u001b[39mimport\u001b[39;00m pairwise_distances\n\u001b[1;32m     16\u001b[0m \u001b[39mfrom\u001b[39;00m \u001b[39msklearn\u001b[39;00m\u001b[39m.\u001b[39;00m\u001b[39mutils\u001b[39;00m \u001b[39mimport\u001b[39;00m _safe_indexing\n",
      "File \u001b[0;32m~/.local/lib/python3.10/site-packages/sklearn/cluster/__init__.py:6\u001b[0m, in \u001b[0;36m<module>\u001b[0;34m\u001b[0m\n\u001b[1;32m      1\u001b[0m \u001b[39m\"\"\"\u001b[39;00m\n\u001b[1;32m      2\u001b[0m \u001b[39mThe :mod:`sklearn.cluster` module gathers popular unsupervised clustering\u001b[39;00m\n\u001b[1;32m      3\u001b[0m \u001b[39malgorithms.\u001b[39;00m\n\u001b[1;32m      4\u001b[0m \u001b[39m\"\"\"\u001b[39;00m\n\u001b[0;32m----> 6\u001b[0m \u001b[39mfrom\u001b[39;00m \u001b[39m.\u001b[39;00m\u001b[39m_spectral\u001b[39;00m \u001b[39mimport\u001b[39;00m spectral_clustering, SpectralClustering\n\u001b[1;32m      7\u001b[0m \u001b[39mfrom\u001b[39;00m \u001b[39m.\u001b[39;00m\u001b[39m_mean_shift\u001b[39;00m \u001b[39mimport\u001b[39;00m mean_shift, MeanShift, estimate_bandwidth, get_bin_seeds\n\u001b[1;32m      8\u001b[0m \u001b[39mfrom\u001b[39;00m \u001b[39m.\u001b[39;00m\u001b[39m_affinity_propagation\u001b[39;00m \u001b[39mimport\u001b[39;00m affinity_propagation, AffinityPropagation\n",
      "File \u001b[0;32m~/.local/lib/python3.10/site-packages/sklearn/cluster/_spectral.py:21\u001b[0m, in \u001b[0;36m<module>\u001b[0;34m\u001b[0m\n\u001b[1;32m     19\u001b[0m \u001b[39mfrom\u001b[39;00m \u001b[39m.\u001b[39;00m\u001b[39m.\u001b[39;00m\u001b[39mmetrics\u001b[39;00m\u001b[39m.\u001b[39;00m\u001b[39mpairwise\u001b[39;00m \u001b[39mimport\u001b[39;00m pairwise_kernels\n\u001b[1;32m     20\u001b[0m \u001b[39mfrom\u001b[39;00m \u001b[39m.\u001b[39;00m\u001b[39m.\u001b[39;00m\u001b[39mneighbors\u001b[39;00m \u001b[39mimport\u001b[39;00m kneighbors_graph, NearestNeighbors\n\u001b[0;32m---> 21\u001b[0m \u001b[39mfrom\u001b[39;00m \u001b[39m.\u001b[39;00m\u001b[39m.\u001b[39;00m\u001b[39mmanifold\u001b[39;00m \u001b[39mimport\u001b[39;00m spectral_embedding\n\u001b[1;32m     22\u001b[0m \u001b[39mfrom\u001b[39;00m \u001b[39m.\u001b[39;00m\u001b[39m_kmeans\u001b[39;00m \u001b[39mimport\u001b[39;00m k_means\n\u001b[1;32m     25\u001b[0m \u001b[39mdef\u001b[39;00m \u001b[39mcluster_qr\u001b[39m(vectors):\n",
      "File \u001b[0;32m~/.local/lib/python3.10/site-packages/sklearn/manifold/__init__.py:5\u001b[0m, in \u001b[0;36m<module>\u001b[0;34m\u001b[0m\n\u001b[1;32m      1\u001b[0m \u001b[39m\"\"\"\u001b[39;00m\n\u001b[1;32m      2\u001b[0m \u001b[39mThe :mod:`sklearn.manifold` module implements data embedding techniques.\u001b[39;00m\n\u001b[1;32m      3\u001b[0m \u001b[39m\"\"\"\u001b[39;00m\n\u001b[0;32m----> 5\u001b[0m \u001b[39mfrom\u001b[39;00m \u001b[39m.\u001b[39;00m\u001b[39m_locally_linear\u001b[39;00m \u001b[39mimport\u001b[39;00m locally_linear_embedding, LocallyLinearEmbedding\n\u001b[1;32m      6\u001b[0m \u001b[39mfrom\u001b[39;00m \u001b[39m.\u001b[39;00m\u001b[39m_isomap\u001b[39;00m \u001b[39mimport\u001b[39;00m Isomap\n\u001b[1;32m      7\u001b[0m \u001b[39mfrom\u001b[39;00m \u001b[39m.\u001b[39;00m\u001b[39m_mds\u001b[39;00m \u001b[39mimport\u001b[39;00m MDS, smacof\n",
      "File \u001b[0;32m~/.local/lib/python3.10/site-packages/sklearn/manifold/_locally_linear.py:12\u001b[0m, in \u001b[0;36m<module>\u001b[0;34m\u001b[0m\n\u001b[1;32m      9\u001b[0m \u001b[39mfrom\u001b[39;00m \u001b[39mscipy\u001b[39;00m\u001b[39m.\u001b[39;00m\u001b[39msparse\u001b[39;00m \u001b[39mimport\u001b[39;00m eye, csr_matrix\n\u001b[1;32m     10\u001b[0m \u001b[39mfrom\u001b[39;00m \u001b[39mscipy\u001b[39;00m\u001b[39m.\u001b[39;00m\u001b[39msparse\u001b[39;00m\u001b[39m.\u001b[39;00m\u001b[39mlinalg\u001b[39;00m \u001b[39mimport\u001b[39;00m eigsh\n\u001b[0;32m---> 12\u001b[0m \u001b[39mfrom\u001b[39;00m \u001b[39m.\u001b[39;00m\u001b[39m.\u001b[39;00m\u001b[39mbase\u001b[39;00m \u001b[39mimport\u001b[39;00m (\n\u001b[1;32m     13\u001b[0m     BaseEstimator,\n\u001b[1;32m     14\u001b[0m     TransformerMixin,\n\u001b[1;32m     15\u001b[0m     _UnstableArchMixin,\n\u001b[1;32m     16\u001b[0m     _ClassNamePrefixFeaturesOutMixin,\n\u001b[1;32m     17\u001b[0m )\n\u001b[1;32m     18\u001b[0m \u001b[39mfrom\u001b[39;00m \u001b[39m.\u001b[39;00m\u001b[39m.\u001b[39;00m\u001b[39mutils\u001b[39;00m \u001b[39mimport\u001b[39;00m check_random_state, check_array\n\u001b[1;32m     19\u001b[0m \u001b[39mfrom\u001b[39;00m \u001b[39m.\u001b[39;00m\u001b[39m.\u001b[39;00m\u001b[39mutils\u001b[39;00m\u001b[39m.\u001b[39;00m\u001b[39m_arpack\u001b[39;00m \u001b[39mimport\u001b[39;00m _init_arpack_v0\n",
      "\u001b[0;31mImportError\u001b[0m: cannot import name '_ClassNamePrefixFeaturesOutMixin' from 'sklearn.base' (/home/shu7bh/.local/lib/python3.10/site-packages/sklearn/base.py)"
     ]
    }
   ],
   "source": [
    "from imblearn.under_sampling import NearMiss\n",
    "\n",
    "nm = NearMiss(sampling_strategy='auto' )\n",
    "X_res,y_res = nm.fit_resample(og_data.drop('Class', axis=1), og_data['Class'])\n",
    "nm_under_sample = pd.concat([pd.DataFrame(X_res),pd.DataFrame(y_res)],axis=1)\n",
    "\n",
    "sns.countplot(x='Class', data=nm_under_sample)\n",
    "plt.title('NearMiss Undersampling')\n",
    "plt.show()"
   ]
  },
  {
   "cell_type": "code",
   "execution_count": null,
   "metadata": {},
   "outputs": [],
   "source": []
  }
 ],
 "metadata": {
  "kernelspec": {
   "display_name": "Python 3.10.8 64-bit",
   "language": "python",
   "name": "python3"
  },
  "language_info": {
   "codemirror_mode": {
    "name": "ipython",
    "version": 3
   },
   "file_extension": ".py",
   "mimetype": "text/x-python",
   "name": "python",
   "nbconvert_exporter": "python",
   "pygments_lexer": "ipython3",
   "version": "3.10.8"
  },
  "orig_nbformat": 4,
  "vscode": {
   "interpreter": {
    "hash": "e7370f93d1d0cde622a1f8e1c04877d8463912d04d973331ad4851f04de6915a"
   }
  }
 },
 "nbformat": 4,
 "nbformat_minor": 2
}
