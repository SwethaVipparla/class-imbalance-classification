{
 "cells": [
  {
   "cell_type": "code",
   "execution_count": 1,
   "metadata": {},
   "outputs": [],
   "source": [
    "import pandas as pd\n",
    "import numpy as np\n",
    "import matplotlib.pyplot as plt\n",
    "import seaborn as sns\n",
    "from sklearn.metrics import confusion_matrix\n",
    "\n",
    "df = pd.read_csv('creditcard.csv')"
   ]
  },
  {
   "cell_type": "code",
   "execution_count": 2,
   "metadata": {},
   "outputs": [
    {
     "data": {
      "image/png": "[encoded data removed]",
      "text/plain": [
       "<Figure size 432x288 with 1 Axes>"
      ]
     },
     "metadata": {
      "needs_background": "light"
     },
     "output_type": "display_data"
    }
   ],
   "source": [
    "# import seaborn as sns\n",
    "\n",
    "sns.countplot(x='Class', data=df)\n",
    "# plt.legend()\n",
    "plt.show()"
   ]
  },
  {
   "cell_type": "markdown",
   "metadata": {},
   "source": [
    "Only 492 transactions are marked as fraud from a total of 284,807 transactions. We will use several undersampling methods to create a balanced dataset. We will then use the balanced dataset to train classifiers and compare the performance of the classifiers."
   ]
  },
  {
   "cell_type": "markdown",
   "metadata": {},
   "source": [
    "## Training on Imbalanced Dataset"
   ]
  },
  {
   "cell_type": "code",
   "execution_count": 3,
   "metadata": {},
   "outputs": [],
   "source": [
    "from sklearn.model_selection import train_test_split\n",
    "from sklearn.linear_model import LogisticRegression\n",
    "from sklearn.metrics import recall_score,accuracy_score\n",
    "from sklearn.decomposition import PCA\n",
    "\n",
    "def evaluate(df):\n",
    "    X = df.drop('Class', axis=1)\n",
    "    y = df['Class']\n",
    "    X_train, X_test, y_train, y_test = train_test_split(X,y,test_size = 0.3, random_state = 0)\n",
    "    #Calculate the recall score for logistic Regression on Skewed data\n",
    "    lr = LogisticRegression(max_iter=1000)\n",
    "    lr.fit(X_train,y_train)\n",
    "    y_pred = lr.predict(X_test)\n",
    "    # cm = confusion_matrix(y_test, y_pred)\n",
    "    # print(cm)\n",
    "    return accuracy_score(y_test, y_pred), recall_score(y_test,y_pred)\n",
    "    \n",
    "\n",
    "# def plot_decision_boundary(X, y):\n",
    "#     # Convert to two dimensions using pca\n",
    "#     pca = PCA(n_components=2)\n",
    "#     X_new = pca.fit_transform(X)\n",
    "#     fraud = X_new[y==1]\n",
    "#     non_fraud = X_new[y==0]\n",
    "#     # Plot the decision boundary\n",
    "#     plt.figure(figsize=(10,6))\n",
    "#     plt.scatter(fraud[:,0], fraud[:,1], color='red', label='Fraud')\n",
    "#     plt.scatter(non_fraud[:,0], non_fraud[:,1], color='green', label='Non Fraud')\n",
    "#     plt.legend()\n",
    "#     plt.show()"
   ]
  },
  {
   "cell_type": "code",
   "execution_count": 4,
   "metadata": {},
   "outputs": [
    {
     "name": "stdout",
     "output_type": "stream",
     "text": [
      "Accuracy:  0.9991456292499094\n",
      "Recall:  0.5986394557823129\n"
     ]
    }
   ],
   "source": [
    "accuracy, recall = evaluate(df)\n",
    "print(\"Accuracy: \", accuracy)\n",
    "print(\"Recall: \", recall)"
   ]
  },
  {
   "cell_type": "markdown",
   "metadata": {},
   "source": [
    "It was able to identify only 68% of the fraud transactions as actually fraud. This is a very poor performance. We will try to improve the performance by using a balanced dataset."
   ]
  },
  {
   "cell_type": "markdown",
   "metadata": {},
   "source": [
    "# <u>Undersampling</u>"
   ]
  },
  {
   "cell_type": "markdown",
   "metadata": {},
   "source": [
    "## Random Undersampling"
   ]
  },
  {
   "cell_type": "code",
   "execution_count": 5,
   "metadata": {},
   "outputs": [
    {
     "data": {
      "image/png": "[encoded data removed]",
      "text/plain": [
       "<Figure size 432x288 with 1 Axes>"
      ]
     },
     "metadata": {
      "needs_background": "light"
     },
     "output_type": "display_data"
    }
   ],
   "source": [
    "def random_undersampling(df):\n",
    "    n_fraud = len(df[df['Class'] == 1])\n",
    "    non_fraud_indices = df[df['Class'] == 0].index\n",
    "    random_indices = np.random.choice(non_fraud_indices, n_fraud, replace=False)\n",
    "    fraud_indices = df[df['Class'] == 1].index\n",
    "    under_sample_indices = np.concatenate([fraud_indices,random_indices])\n",
    "    under_sample = df.loc[under_sample_indices]\n",
    "    return under_sample\n",
    "\n",
    "random_under_sample = random_undersampling(df)\n",
    "sns.countplot(x='Class', data=random_under_sample)\n",
    "plt.title('Random Undersampling')\n",
    "plt.show()"
   ]
  },
  {
   "cell_type": "code",
   "execution_count": 6,
   "metadata": {},
   "outputs": [
    {
     "name": "stdout",
     "output_type": "stream",
     "text": [
      "Accuracy:  0.9425675675675675\n",
      "Recall:  0.9387755102040817\n"
     ]
    }
   ],
   "source": [
    "accuracy, recall = evaluate(random_under_sample)\n",
    "print(\"Accuracy: \", accuracy)\n",
    "print(\"Recall: \", recall)"
   ]
  },
  {
   "cell_type": "markdown",
   "metadata": {},
   "source": [
    "We observe that recall is improved considerably. It is now able to identify 93% of the fraud transactions correctly. However, accuracy is decreased due to undersampling of the majority class. It is ok to label some non-fraud transactions as fraud, but it is not ok to label some fraud transactions as non-fraud. We will try to improve the recall by using a different undersampling method."
   ]
  },
  {
   "cell_type": "markdown",
   "metadata": {},
   "source": [
    "## Near Miss Undersampling"
   ]
  },
  {
   "cell_type": "code",
   "execution_count": 7,
   "metadata": {},
   "outputs": [
    {
     "data": {
      "image/png": "[encoded data removed]",
      "text/plain": [
       "<Figure size 432x288 with 1 Axes>"
      ]
     },
     "metadata": {
      "needs_background": "light"
     },
     "output_type": "display_data"
    }
   ],
   "source": [
    "from imblearn.under_sampling import NearMiss\n",
    "\n",
    "nm = NearMiss(sampling_strategy='auto', )\n",
    "X_res,y_res = nm.fit_resample(df.drop('Class', axis=1), df['Class'])\n",
    "nm_under_sample = pd.concat([pd.DataFrame(X_res),pd.DataFrame(y_res)],axis=1)\n",
    "\n",
    "sns.countplot(x='Class', data=nm_under_sample)\n",
    "plt.title('NearMiss Undersampling')\n",
    "plt.show()"
   ]
  },
  {
   "cell_type": "code",
   "execution_count": 8,
   "metadata": {},
   "outputs": [
    {
     "name": "stdout",
     "output_type": "stream",
     "text": [
      "Accuracy:  0.9628378378378378\n",
      "Recall:  0.9395973154362416\n"
     ]
    }
   ],
   "source": [
    "accuracy, recall = evaluate(nm_under_sample)\n",
    "print(\"Accuracy: \", accuracy)\n",
    "print(\"Recall: \", recall)"
   ]
  },
  {
   "cell_type": "markdown",
   "metadata": {},
   "source": [
    "# Oversampling"
   ]
  },
  {
   "cell_type": "markdown",
   "metadata": {},
   "source": [
    "## Random Oversampling"
   ]
  },
  {
   "cell_type": "code",
   "execution_count": 9,
   "metadata": {},
   "outputs": [
    {
     "data": {
      "image/png": "[encoded data removed]",
      "text/plain": [
       "<Figure size 432x288 with 1 Axes>"
      ]
     },
     "metadata": {
      "needs_background": "light"
     },
     "output_type": "display_data"
    }
   ],
   "source": [
    "from imblearn.over_sampling import RandomOverSampler\n",
    "\n",
    "ros = RandomOverSampler(sampling_strategy='auto')\n",
    "X_res,y_res = ros.fit_resample(df.drop('Class', axis=1), df['Class'])\n",
    "ros_over_sample = pd.concat([pd.DataFrame(X_res),pd.DataFrame(y_res)],axis=1)\n",
    "\n",
    "sns.countplot(x='Class', data=ros_over_sample)\n",
    "plt.title('Random Oversampling')\n",
    "plt.show()"
   ]
  },
  {
   "cell_type": "code",
   "execution_count": 10,
   "metadata": {},
   "outputs": [
    {
     "name": "stdout",
     "output_type": "stream",
     "text": [
      "Accuracy:  0.9386654473617877\n",
      "Recall:  0.9142676516384326\n"
     ]
    }
   ],
   "source": [
    "accuracy, recall = evaluate(ros_over_sample)\n",
    "print(\"Accuracy: \", accuracy)\n",
    "print(\"Recall: \", recall)"
   ]
  },
  {
   "cell_type": "markdown",
   "metadata": {},
   "source": [
    "## Synthetic Minority Oversampling Technique (SMOTE)"
   ]
  },
  {
   "cell_type": "code",
   "execution_count": 11,
   "metadata": {},
   "outputs": [
    {
     "data": {
      "image/png": "[encoded data removed]",
      "text/plain": [
       "<Figure size 432x288 with 1 Axes>"
      ]
     },
     "metadata": {
      "needs_background": "light"
     },
     "output_type": "display_data"
    }
   ],
   "source": [
    "from imblearn.over_sampling import SMOTE\n",
    "\n",
    "smote = SMOTE(sampling_strategy='auto')\n",
    "X_res,y_res = smote.fit_resample(df.drop('Class', axis=1), df['Class'])\n",
    "smote_over_sample = pd.concat([pd.DataFrame(X_res),pd.DataFrame(y_res)],axis=1)\n",
    "\n",
    "sns.countplot(x='Class', data=smote_over_sample)\n",
    "plt.title('SMOTE Oversampling')\n",
    "plt.show()"
   ]
  },
  {
   "cell_type": "code",
   "execution_count": 12,
   "metadata": {},
   "outputs": [
    {
     "name": "stdout",
     "output_type": "stream",
     "text": [
      "Accuracy:  0.9720380563811266\n",
      "Recall:  0.9646440404135008\n"
     ]
    }
   ],
   "source": [
    "accuracy, recall = evaluate(smote_over_sample)\n",
    "print(\"Accuracy: \", accuracy)\n",
    "print(\"Recall: \", recall)"
   ]
  },
  {
   "cell_type": "markdown",
   "metadata": {},
   "source": [
    "## Adaptive Synthetic sampling method (ADASYN)"
   ]
  },
  {
   "cell_type": "code",
   "execution_count": 13,
   "metadata": {},
   "outputs": [
    {
     "data": {
      "image/png": "[encoded data removed]",
      "text/plain": [
       "<Figure size 432x288 with 1 Axes>"
      ]
     },
     "metadata": {
      "needs_background": "light"
     },
     "output_type": "display_data"
    }
   ],
   "source": [
    "from imblearn.over_sampling import ADASYN\n",
    "\n",
    "adasyn = ADASYN(sampling_strategy='auto')\n",
    "X_res,y_res = adasyn.fit_resample(df.drop('Class', axis=1), df['Class'])\n",
    "adasyn_over_sample = pd.concat([pd.DataFrame(X_res),pd.DataFrame(y_res)],axis=1)\n",
    "\n",
    "sns.countplot(x='Class', data=adasyn_over_sample)\n",
    "plt.title('ADASYN Oversampling')\n",
    "plt.show()\n"
   ]
  },
  {
   "cell_type": "code",
   "execution_count": 14,
   "metadata": {},
   "outputs": [
    {
     "name": "stdout",
     "output_type": "stream",
     "text": [
      "Accuracy:  0.9575458425174694\n",
      "Recall:  0.948406055000761\n"
     ]
    }
   ],
   "source": [
    "accuracy, recall = evaluate(adasyn_over_sample)\n",
    "print(\"Accuracy: \", accuracy)\n",
    "print(\"Recall: \", recall)"
   ]
  }
 ],
 "metadata": {
  "kernelspec": {
   "display_name": "Python 3.8.10 64-bit",
   "language": "python",
   "name": "python3"
  },
  "language_info": {
   "codemirror_mode": {
    "name": "ipython",
    "version": 3
   },
   "file_extension": ".py",
   "mimetype": "text/x-python",
   "name": "python",
   "nbconvert_exporter": "python",
   "pygments_lexer": "ipython3",
   "version": "3.8.10"
  },
  "orig_nbformat": 4,
  "vscode": {
   "interpreter": {
    "hash": "916dbcbb3f70747c44a77c7bcd40155683ae19c65e1c03b4aa3499c5328201f1"
   }
  }
 },
 "nbformat": 4,
 "nbformat_minor": 2
}
